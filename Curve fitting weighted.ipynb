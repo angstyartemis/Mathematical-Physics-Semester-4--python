{
 "cells": [
  {
   "cell_type": "code",
   "execution_count": 14,
   "metadata": {},
   "outputs": [],
   "source": [
    "import math   ## importing the required libraries\n",
    "import matplotlib.pyplot as plt\n",
    "%matplotlib inline\n",
    "import numpy as np"
   ]
  },
  {
   "cell_type": "code",
   "execution_count": 15,
   "metadata": {},
   "outputs": [
    {
     "name": "stdout",
     "output_type": "stream",
     "text": [
      "degree of the polynomial to be fitted: 3\n"
     ]
    }
   ],
   "source": [
    "n = int(input('degree of the polynomial to be fitted: ')) # enter the degree of the polynomial that you want to fit"
   ]
  },
  {
   "cell_type": "code",
   "execution_count": 16,
   "metadata": {},
   "outputs": [],
   "source": [
    "x= [0, 0.05, 0.1, 0.15, 0.2, 0.25, 0.3, 0.35, 0.4, 0.45,\n",
    "    0.5, 0.55, 0.6, 0.65, 0.7, 0.75, 0.8, 0.85, 0.9, 0.95, 1]\n",
    "y= [0.486, 0.866, 0.944, 1.144, 1.103, 1.202, 1.166, 1.191, 1.124,1.095,\n",
    "    1.122, 1.102, 1.099, 1.017, 1.111, 1.117, 1.152, 1.265, 1.38, 1.575, 1.857]\n",
    "delta_y=[0.052, 0.04, 0.056, 0.076, 0.016, 0.072, 0.028, 0.008, 0.04, \n",
    "         0.068, 0.072, 0.004, 0.08, 0.02, 0.052, 0.008, 0.024, 0.048,0.036, 0.064, 0.02]\n",
    "w=[1/(i)**2 for i in delta_y]"
   ]
  },
  {
   "cell_type": "code",
   "execution_count": 17,
   "metadata": {},
   "outputs": [
    {
     "name": "stdout",
     "output_type": "stream",
     "text": [
      "21\n"
     ]
    }
   ],
   "source": [
    "N= len(x) # calculate the number of points taken\n",
    "print(N)"
   ]
  },
  {
   "cell_type": "code",
   "execution_count": 18,
   "metadata": {},
   "outputs": [
    {
     "name": "stdout",
     "output_type": "stream",
     "text": [
      "[110357.6128164969, 60469.3208882781, 36156.888624007595, 23088.07792094667, 15649.934385001729, 11226.836143112445, 8495.955610621186]\n",
      "[125106.98712251846, 69508.97320466416, 42341.75676944155, 27778.736261749356, 19500.112049926473, 14574.568082896823, 11527.147135110074]\n"
     ]
    }
   ],
   "source": [
    "sum_list=[]\n",
    "Y_list=[]\n",
    "for i in range (2*n+1):\n",
    "    sum=0\n",
    "    Y=0\n",
    "    for j in range (0,N):\n",
    "        sum+= (x[j]**i)*w[j]\n",
    "    for k in range (0,N):\n",
    "        Y+= (x[k]**i)*y[k]*w[k]\n",
    "    sum_list.append(sum) # list whose elements are sum(i), sum(xi), sum(xi^2),...soon\n",
    "    Y_list.append(Y) # list whose elements are sum(yi), sum(xiyi), sum(xi^2*yi),....soon\n",
    "    \n",
    "print(sum_list)\n",
    "print(Y_list)"
   ]
  },
  {
   "cell_type": "code",
   "execution_count": 19,
   "metadata": {},
   "outputs": [],
   "source": [
    "matM =np.zeros((n+1,n+1))\n",
    "matY =np.zeros(n+1)\n",
    "matA = np.zeros(n+1)"
   ]
  },
  {
   "cell_type": "code",
   "execution_count": 20,
   "metadata": {},
   "outputs": [
    {
     "name": "stdout",
     "output_type": "stream",
     "text": [
      "[[110357.6128165   60469.32088828  36156.88862401  23088.07792095]\n",
      " [ 60469.32088828  36156.88862401  23088.07792095  15649.934385  ]\n",
      " [ 36156.88862401  23088.07792095  15649.934385    11226.83614311]\n",
      " [ 23088.07792095  15649.934385    11226.83614311   8495.95561062]]\n"
     ]
    }
   ],
   "source": [
    "for i in range(n+1):\n",
    "    for j in range(n+1):\n",
    "        matM[i][j] = sum_list[j+i]\n",
    "print(matM) # matrix of M in MA=Y form of equation (matrix of xis)"
   ]
  },
  {
   "cell_type": "code",
   "execution_count": 21,
   "metadata": {},
   "outputs": [
    {
     "name": "stdout",
     "output_type": "stream",
     "text": [
      "[125106.98712252  69508.97320466  42341.75676944  27778.73626175]\n"
     ]
    }
   ],
   "source": [
    "for i in range(n+1):\n",
    "    matY[i]=Y_list[i]\n",
    "print(matY) # matrix on R.H.S. of the equation"
   ]
  },
  {
   "cell_type": "code",
   "execution_count": 22,
   "metadata": {},
   "outputs": [
    {
     "name": "stdout",
     "output_type": "stream",
     "text": [
      "[[1.         0.         0.         0.        ]\n",
      " [0.54793973 1.         0.         0.        ]\n",
      " [0.32763384 1.08366129 1.         0.        ]\n",
      " [0.20921147 0.99196719 1.62803287 1.        ]]\n",
      "[[1.10357613e+05 6.04693209e+04 3.61568886e+04 2.30880779e+04]\n",
      " [0.00000000e+00 3.02334509e+03 3.27628203e+03 2.99905914e+03]\n",
      " [0.00000000e+00 0.00000000e+00 2.53334076e+02 4.12436202e+02]\n",
      " [0.00000000e+00 0.00000000e+00 0.00000000e+00 1.92370300e+01]]\n"
     ]
    }
   ],
   "source": [
    "# program for LU decomposition\n",
    "lowerM=np.zeros((n+1,n+1))\n",
    "upperM=np.zeros((n+1,n+1))\n",
    "P=np.zeros(n+1)\n",
    "for i in range(n+1):\n",
    "    for j in range(i,n+1):\n",
    "        sum = 0;\n",
    "        for k in range (i):\n",
    "            sum+=(lowerM[i][k])*(upperM[k][j]);\n",
    "        upperM[i][j]=matM[i][j]-sum;\n",
    "    for j in range(i,n+1):\n",
    "        if(i==j):\n",
    "            lowerM[i][i]=1;\n",
    "        else:\n",
    "            sum = 0\n",
    "            for k in range (i):\n",
    "                sum+=(lowerM[j][k])*(upperM[k][i]);\n",
    "            lowerM[j][i]=(matM[j][i]-sum)/upperM[i][i];\n",
    "            \n",
    "print(lowerM)\n",
    "print(upperM)\n",
    "            "
   ]
  },
  {
   "cell_type": "code",
   "execution_count": 23,
   "metadata": {},
   "outputs": [
    {
     "name": "stdout",
     "output_type": "stream",
     "text": [
      "[125106.98712252    957.88409895    314.45206775    142.79222417]\n"
     ]
    }
   ],
   "source": [
    "for i in range (n+1):\n",
    "    P[i]=matY[i]/lowerM[i][i];      \n",
    "    for j in range(0,i):\n",
    "        P[i]=P[i]-(lowerM[i][j]*P[j])/lowerM[i][i];\n",
    "print(P)"
   ]
  },
  {
   "cell_type": "code",
   "execution_count": 24,
   "metadata": {},
   "outputs": [
    {
     "name": "stdout",
     "output_type": "stream",
     "text": [
      "[  0.55577384   4.70411194 -10.84327381   7.42277909]\n"
     ]
    }
   ],
   "source": [
    "for i in range (n,-1,-1):\n",
    "    matA[i]=P[i]/upperM[i][i];\n",
    "    for j in range (i+1, n+1):\n",
    "        matA[i]=matA[i]-(upperM[i][j]*matA[j])/upperM[i][i];\n",
    "print(matA)  ## final matrix obtained after LU decom. and substitution, it's elements are the required coefficients"
   ]
  },
  {
   "cell_type": "code",
   "execution_count": 25,
   "metadata": {},
   "outputs": [],
   "source": [
    "delx=(x[-1] - x[0])/100\n",
    "delx1=x[0]\n",
    "X=[delx1]\n",
    "for i in range (0,100,1):\n",
    "    delx1+=delx\n",
    "    X.append(delx1)\n",
    "funcvalues=[]\n",
    "for xi in X:\n",
    "    funcvalue=0\n",
    "    for i in range (0,n+1):\n",
    "         funcvalue+= matA[i]*(xi**i)\n",
    "    funcvalues.append(funcvalue) ## funcvalues have values of best fit curve of nth degree"
   ]
  },
  {
   "cell_type": "code",
   "execution_count": 26,
   "metadata": {},
   "outputs": [
    {
     "data": {
      "text/plain": [
       "[<matplotlib.lines.Line2D at 0x26081755880>]"
      ]
     },
     "execution_count": 26,
     "metadata": {},
     "output_type": "execute_result"
    },
    {
     "data": {
      "image/png": "[encoded data removed]",
      "text/plain": [
       "<Figure size 432x288 with 1 Axes>"
      ]
     },
     "metadata": {
      "needs_background": "light"
     },
     "output_type": "display_data"
    }
   ],
   "source": [
    "plt.plot(x, y, 'o') # plots the points\n",
    "plt.plot(X, funcvalues, 'r')# plots the best fit curve"
   ]
  },
  {
   "cell_type": "code",
   "execution_count": null,
   "metadata": {},
   "outputs": [],
   "source": []
  },
  {
   "cell_type": "code",
   "execution_count": null,
   "metadata": {},
   "outputs": [],
   "source": []
  },
  {
   "cell_type": "code",
   "execution_count": null,
   "metadata": {},
   "outputs": [],
   "source": []
  }
 ],
 "metadata": {
  "kernelspec": {
   "display_name": "Python 3",
   "language": "python",
   "name": "python3"
  },
  "language_info": {
   "codemirror_mode": {
    "name": "ipython",
    "version": 3
   },
   "file_extension": ".py",
   "mimetype": "text/x-python",
   "name": "python",
   "nbconvert_exporter": "python",
   "pygments_lexer": "ipython3",
   "version": "3.8.3"
  }
 },
 "nbformat": 4,
 "nbformat_minor": 4
}
