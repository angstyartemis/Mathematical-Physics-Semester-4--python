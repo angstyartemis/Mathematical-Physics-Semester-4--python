{
 "cells": [
  {
   "cell_type": "code",
   "execution_count": 10,
   "metadata": {},
   "outputs": [],
   "source": [
    "import math\n",
    "import matplotlib.pyplot as plt\n",
    "%matplotlib inline\n",
    "import numpy as np"
   ]
  },
  {
   "cell_type": "code",
   "execution_count": 11,
   "metadata": {},
   "outputs": [],
   "source": [
    "x=[3.047102,\n",
    "3.066862,\n",
    "3.083525,\n",
    "3.097783,\n",
    "3.110131,\n",
    "3.120934,\n",
    "3.130472,\n",
    "3.138955,\n",
    "3.146553,\n",
    "3.153399,\n",
    "3.1596,\n",
    "3.178291,\n",
    "3.18297,\n",
    "3.187271,\n",
    "3.191222,\n",
    "3.206589,\n",
    "3.209582,\n",
    "3.212359,\n",
    "3.214942,\n",
    "3.227988,\n",
    "3.229923,\n",
    "3.231734,\n",
    "3.233432,\n",
    "3.244768,\n",
    "3.246005]\n",
    "y=[-1.036625,\n",
    "-0.949195,\n",
    "-0.83889,\n",
    "-0.768505,\n",
    "-0.7167,\n",
    "-0.65561,\n",
    "-0.5986,\n",
    "-0.54516,\n",
    "-0.50599,\n",
    "-0.457925,\n",
    "-0.42251,\n",
    "-0.388925,\n",
    "-0.346895,\n",
    "-0.30681,\n",
    "-0.27737,\n",
    "-0.24033,\n",
    "-0.213335,\n",
    "-0.18709,\n",
    "-0.15366,\n",
    "-0.129375,\n",
    "-0.09806,\n",
    "-0.0752,\n",
    "-0.04576,\n",
    "-0.01728,\n",
    "-0.00349]\n",
    "N=len(x)\n",
    "delx=(x[-1] - x[0])/100\n",
    "delx1=x[0]\n",
    "X=[delx1]\n",
    "for i in range (0,100,1):\n",
    "    delx1+=delx\n",
    "    X.append(delx1)"
   ]
  },
  {
   "cell_type": "code",
   "execution_count": 12,
   "metadata": {},
   "outputs": [],
   "source": [
    "def matrix(n):\n",
    "    N= len(x)\n",
    "    sum_list=[]\n",
    "    Y_list=[]\n",
    "    matM =np.zeros((n+1,n+1))\n",
    "    matY =np.zeros(n+1)\n",
    "    for i in range (2*n+1):\n",
    "        sum=0\n",
    "        Y=0\n",
    "        for j in x:\n",
    "            sum+= j**i\n",
    "        for k in range (0,N):\n",
    "            Y+= (x[k]**i)*y[k]\n",
    "        sum_list.append(sum)\n",
    "        Y_list.append(Y)\n",
    "    for i in range(n+1):\n",
    "        for j in range(n+1):\n",
    "            matM[i][j] = sum_list[j+i]\n",
    "    return (matM)\n",
    " "
   ]
  },
  {
   "cell_type": "code",
   "execution_count": 13,
   "metadata": {},
   "outputs": [],
   "source": [
    "def matrixY(n):\n",
    "    N= len(x)\n",
    "    sum_list=[]\n",
    "    Y_list=[]\n",
    "    matM =np.zeros((n+1,n+1))\n",
    "    matY =np.zeros(n+1)\n",
    "    for i in range (2*n+1):\n",
    "        sum=0\n",
    "        Y=0\n",
    "        for j in x:\n",
    "            sum+= j**i\n",
    "        for k in range (0,N):\n",
    "            Y+= (x[k]**i)*y[k]\n",
    "        sum_list.append(sum)\n",
    "        Y_list.append(Y)\n",
    "    for i in range(n+1):\n",
    "        matY[i]=Y_list[i]\n",
    "    return(matY)"
   ]
  },
  {
   "cell_type": "code",
   "execution_count": 14,
   "metadata": {},
   "outputs": [],
   "source": [
    "def Lower(n,matM,matY):\n",
    "    lowerM=np.zeros((n+1,n+1))\n",
    "    upperM=np.zeros((n+1,n+1))\n",
    "    P=np.zeros(n+1)\n",
    "    for i in range(n+1):\n",
    "        for j in range(i,n+1):\n",
    "            sum = 0;\n",
    "            for k in range (i):\n",
    "                sum+=(lowerM[i][k])*(upperM[k][j]);\n",
    "            upperM[i][j]=matM[i][j]-sum;\n",
    "        for j in range(i,n+1):\n",
    "            if(i==j):\n",
    "                lowerM[i][i]=1;\n",
    "            else:\n",
    "                sum = 0\n",
    "                for k in range (i):\n",
    "                    sum+=(lowerM[j][k])*(upperM[k][i]);\n",
    "                lowerM[j][i]=(matM[j][i]-sum)/upperM[i][i];\n",
    "            \n",
    "    return(lowerM)\n",
    "            "
   ]
  },
  {
   "cell_type": "code",
   "execution_count": 15,
   "metadata": {},
   "outputs": [],
   "source": [
    "def Upper(n,matM,matY):\n",
    "    lowerM=np.zeros((n+1,n+1))\n",
    "    upperM=np.zeros((n+1,n+1))\n",
    "    P=np.zeros(n+1)\n",
    "    for i in range(n+1):\n",
    "        for j in range(i,n+1):\n",
    "            sum = 0;\n",
    "            for k in range (i):\n",
    "                sum+=(lowerM[i][k])*(upperM[k][j]);\n",
    "            upperM[i][j]=matM[i][j]-sum;\n",
    "        for j in range(i,n+1):\n",
    "            if(i==j):\n",
    "                lowerM[i][i]=1;\n",
    "            else:\n",
    "                sum = 0\n",
    "                for k in range (i):\n",
    "                    sum+=(lowerM[j][k])*(upperM[k][i]);\n",
    "                lowerM[j][i]=(matM[j][i]-sum)/upperM[i][i];\n",
    "            \n",
    "    return(upperM)"
   ]
  },
  {
   "cell_type": "code",
   "execution_count": 16,
   "metadata": {},
   "outputs": [],
   "source": [
    "def YmatrixLU(n,matY,lowerM):\n",
    "    P=np.zeros(n+1)\n",
    "    for i in range (n+1):\n",
    "        P[i]=matY[i]/lowerM[i][i];\n",
    "        for j in range(0,i):\n",
    "            P[i]=P[i]-(lowerM[i][j]*P[j])/lowerM[i][i];\n",
    "    return(P)"
   ]
  },
  {
   "cell_type": "code",
   "execution_count": 17,
   "metadata": {},
   "outputs": [],
   "source": [
    "def finalmatrix(n,P,upperM):\n",
    "    matA = np.zeros(n+1)\n",
    "    for i in range (n,-1,-1):\n",
    "        matA[i]=P[i]/upperM[i][i];\n",
    "        for j in range (i+1, n+1):\n",
    "            matA[i]=matA[i]-(upperM[i][j]*matA[j])/upperM[i][i];\n",
    "    return(matA)"
   ]
  },
  {
   "cell_type": "code",
   "execution_count": 18,
   "metadata": {},
   "outputs": [
    {
     "name": "stdout",
     "output_type": "stream",
     "text": [
      "n= 1\n",
      "fitting matrix= [-16.7005657    5.14224041]\n",
      "deviation= -5.80334391653281e-14\n",
      "sd deviation= 0.007069263987354531\n"
     ]
    },
    {
     "data": {
      "image/png": "[encoded data removed]",
      "text/plain": [
       "<Figure size 432x288 with 1 Axes>"
      ]
     },
     "metadata": {
      "needs_background": "light"
     },
     "output_type": "display_data"
    }
   ],
   "source": [
    "ns=[1]\n",
    "for i in ns:\n",
    "    print(\"n=\",i)\n",
    "    M=matrix(i)\n",
    "    Y=matrixY(i)\n",
    "    A=np.zeros(i)\n",
    "    L=Lower(i,M,Y)\n",
    "    U=Upper(i,M,Y)\n",
    "    Pn=YmatrixLU(i,Y,L)\n",
    "    A=finalmatrix(i,Pn,U)\n",
    "    print(\"fitting matrix=\",A)\n",
    "    step=len(A)\n",
    "    Fn=[]\n",
    "    for xi in X:\n",
    "        sum=0\n",
    "        for p in range(0,step):\n",
    "            sum=sum + A[p]*(xi)**p\n",
    "        Fn.append(sum)\n",
    "    D=0\n",
    "    S=0\n",
    "    F=[]\n",
    "    for xi in x:\n",
    "        sum=0\n",
    "        for p in range(0,step):\n",
    "            sum=sum + A[p]*(xi)**p\n",
    "        F.append(sum)\n",
    "    for q in range(0,N):\n",
    "        D+= y[q]-F[q]\n",
    "        S+=(y[q]-F[q])**2\n",
    "    print(\"deviation=\",D)\n",
    "    print(\"sd deviation=\",S)\n",
    "    plt.xlabel(\"log T\")\n",
    "    plt.ylabel(\"log P\")\n",
    "    plt.plot(X, Fn)\n",
    "    plt.plot(x, y, 'o', label= \"data points\")\n",
    "    plt.legend();"
   ]
  },
  {
   "cell_type": "code",
   "execution_count": null,
   "metadata": {},
   "outputs": [],
   "source": []
  }
 ],
 "metadata": {
  "kernelspec": {
   "display_name": "Python 3",
   "language": "python",
   "name": "python3"
  },
  "language_info": {
   "codemirror_mode": {
    "name": "ipython",
    "version": 3
   },
   "file_extension": ".py",
   "mimetype": "text/x-python",
   "name": "python",
   "nbconvert_exporter": "python",
   "pygments_lexer": "ipython3",
   "version": "3.8.3"
  }
 },
 "nbformat": 4,
 "nbformat_minor": 4
}
