{
 "cells": [
  {
   "cell_type": "markdown",
   "metadata": {},
   "source": [
    "## Gauss Quadrature for Different ns"
   ]
  },
  {
   "cell_type": "code",
   "execution_count": 11,
   "metadata": {},
   "outputs": [],
   "source": [
    "import math\n",
    "import numpy as np"
   ]
  },
  {
   "cell_type": "code",
   "execution_count": 12,
   "metadata": {},
   "outputs": [],
   "source": [
    "def Legendre(n, x):\n",
    "    if n == 0:\n",
    "        return 1\n",
    "    elif n == 1:\n",
    "        return x\n",
    "    else:\n",
    "        return ((2 * n - 1) / n) * x * Legendre(n-1, x) - ((n - 1) / n) * Legendre(n-2, x)"
   ]
  },
  {
   "cell_type": "code",
   "execution_count": 13,
   "metadata": {},
   "outputs": [],
   "source": [
    "def phi(k,x):\n",
    "    prod=1\n",
    "    for i in range (0,n+1):\n",
    "        if(k != i):\n",
    "            ps= (x-roots[i])/(roots[k]-roots[i])\n",
    "            prod =prod*ps\n",
    "    return prod"
   ]
  },
  {
   "cell_type": "code",
   "execution_count": 14,
   "metadata": {},
   "outputs": [],
   "source": [
    "def func(x):\n",
    "    return(math.sqrt(1-x**2))"
   ]
  },
  {
   "cell_type": "code",
   "execution_count": 15,
   "metadata": {},
   "outputs": [
    {
     "name": "stdout",
     "output_type": "stream",
     "text": [
      "for n= 6\n",
      "root: [-0.9491079123427586, -0.7415311855993945, -0.4058451513773972, 0.0, 0.4058451513773972, 0.7415311855993945, 0.9491079123427586]\n",
      "weight: [0.1294853589155222, 0.27970426257438213, 0.3818316713283809, 0.41795741436342837, 0.38183167132838125, 0.27970426257438175, 0.12948535891552315]\n",
      "Integral: 1.572781881338683\n",
      "for n= 10\n",
      "root: [-0.9782286581460571, -0.8870625997680952, -0.7301520055740494, -0.5190961292068119, -0.269543155952345, 0.0, 0.269543155952345, 0.5190961292068119, 0.7301520055740494, 0.8870625997680952, 0.9782286581460571]\n",
      "weight: [0.05567415183588349, 0.12556454762714872, 0.18631263556314373, 0.23316892466053063, 0.26282992549420703, 0.2728996296381722, 0.2628299254942071, 0.23316892466053038, 0.18631263556314412, 0.12556454762714808, 0.055674151835884506]\n",
      "Integral: 1.5713410908965586\n",
      "for n= 20\n",
      "root: [-0.9937521706203896, -0.9672268385663063, -0.9200993341504009, -0.8533633645833172, -0.7684399634756778, -0.6671388041974122, -0.5516188358872198, -0.4243421202074388, -0.28802131680240106, -0.14556185416089507, 0.0, 0.14556185416089507, 0.28802131680240106, 0.4243421202074388, 0.5516188358872198, 0.6671388041974122, 0.7684399634756778, 0.8533633645833172, 0.9200993341504009, 0.9672268385663063, 0.9937521706203896]\n",
      "weight: [0.016251627795587725, 0.03630174968340139, 0.0580320514662692, 0.07513960881049703, 0.0943910990112291, 0.10788073510894648, 0.12271882597493178, 0.13140505348351955, 0.14073447056716848, 0.14368733521980262, 0.1469148857572928, 0.14368733521980245, 0.14073447056716853, 0.13140505348351939, 0.122718825974932, 0.10788073510894614, 0.09439109901122944, 0.07513960881049658, 0.05803205146626976, 0.036301749683400684, 0.016251627795588777]\n",
      "Integral: 1.5708640042784405\n"
     ]
    }
   ],
   "source": [
    "Ns=[6,10,20]\n",
    "for n in Ns:\n",
    "    print(\"for n=\",n)\n",
    "    m=int(10*n)\n",
    "    h=2/m\n",
    "    X=[-1+h*i for i in range (0,m+1)]\n",
    "    pt=n+1\n",
    "    #######\n",
    "    roots=[]\n",
    "    for i in range (0,m):\n",
    "        z11=X[i+1]\n",
    "        z00=X[i]\n",
    "        if(Legendre(pt,z11)==0):\n",
    "            roots.append(z11)\n",
    "        elif((Legendre(pt,z11))*(Legendre(pt,z00))<0):\n",
    "            for i in range (0,100):\n",
    "                mp=(z11+z00)/2\n",
    "                if(Legendre(pt,mp)==0):\n",
    "                    print('stopped')\n",
    "                    break;\n",
    "                elif((Legendre(pt,mp))*(Legendre(pt,z00))<0):\n",
    "                    z11=mp\n",
    "                else:\n",
    "                    z00=mp\n",
    "            roots.append(mp)\n",
    "    print(\"root:\",roots)\n",
    "    ######\n",
    "    weights=[]\n",
    "    #integration using simpson's\n",
    "    for k in range (0,n+1):\n",
    "        a=-1\n",
    "        b=1\n",
    "        N_sim=100 # number of intervals\n",
    "        n_sim=int(N_sim/2)\n",
    "        h_sim=(b-a)/N_sim\n",
    "        x0_sim=a\n",
    "        I_sim=0  ## used if N=10 implies 11 pts and set of 3\n",
    "        for i in range (0,n_sim):\n",
    "            x1_sim=x0_sim+h_sim\n",
    "            x2_sim=x0_sim+2*h_sim\n",
    "            I_sim=I_sim+ (h_sim*(phi(k,x0_sim)+4*phi(k,x1_sim)+phi(k,x2_sim)))/3\n",
    "            x0_sim=x0_sim+2*h_sim\n",
    "        weights.append(I_sim)\n",
    "    print(\"weight:\",weights)\n",
    "    Integral=0\n",
    "    for i in range (0,n+1):\n",
    "        Integral=Integral+weights[i]*func(roots[i])\n",
    "    print(\"Integral:\",Integral)"
   ]
  },
  {
   "cell_type": "markdown",
   "metadata": {},
   "source": [
    "## Trapezoidal method for diff ns"
   ]
  },
  {
   "cell_type": "code",
   "execution_count": 16,
   "metadata": {},
   "outputs": [
    {
     "name": "stdout",
     "output_type": "stream",
     "text": [
      "for n= 6\n",
      "the value of the integral using trapezoidal rule is: 1.4587766929002328\n",
      "for n= 10\n",
      "the value of the integral using trapezoidal rule is: 1.5185244144417755\n",
      "for n= 20\n",
      "the value of the integral using trapezoidal rule is: 1.5522591641778305\n"
     ]
    }
   ],
   "source": [
    "a=-1\n",
    "b=1\n",
    "Ns=[6,10,20]\n",
    "for n in Ns:\n",
    "    print(\"for n=\",n)\n",
    "    h_t=(b-a)/n\n",
    "    x0_t=a\n",
    "    I_t=0\n",
    "    for i in range (0,n):\n",
    "        x1_t=x0_t+h_t\n",
    "        I_t= I_t+ (h_t/2)*(func(x1_t)+func(x0_t))\n",
    "        x0_t=x1_t\n",
    "    print('the value of the integral using trapezoidal rule is:',I_t)"
   ]
  },
  {
   "cell_type": "code",
   "execution_count": null,
   "metadata": {},
   "outputs": [],
   "source": []
  }
 ],
 "metadata": {
  "kernelspec": {
   "display_name": "Python 3",
   "language": "python",
   "name": "python3"
  },
  "language_info": {
   "codemirror_mode": {
    "name": "ipython",
    "version": 3
   },
   "file_extension": ".py",
   "mimetype": "text/x-python",
   "name": "python",
   "nbconvert_exporter": "python",
   "pygments_lexer": "ipython3",
   "version": "3.8.3"
  }
 },
 "nbformat": 4,
 "nbformat_minor": 4
}
