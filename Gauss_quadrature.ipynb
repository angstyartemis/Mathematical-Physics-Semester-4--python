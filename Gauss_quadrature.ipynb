{
 "cells": [
  {
   "cell_type": "code",
   "execution_count": 10,
   "metadata": {},
   "outputs": [],
   "source": [
    "import math\n",
    "import numpy as np"
   ]
  },
  {
   "cell_type": "code",
   "execution_count": 11,
   "metadata": {},
   "outputs": [],
   "source": [
    "def Legendre(n, x):\n",
    "    if n == 0:\n",
    "        return 1\n",
    "    elif n == 1:\n",
    "        return x\n",
    "    else:\n",
    "        return ((2 * n - 1) / n) * x * Legendre(n-1, x) - ((n - 1) / n) * Legendre(n-2, x)"
   ]
  },
  {
   "cell_type": "code",
   "execution_count": 12,
   "metadata": {},
   "outputs": [
    {
     "name": "stdout",
     "output_type": "stream",
     "text": [
      "the number of interval:10\n"
     ]
    }
   ],
   "source": [
    "n=int(input(\"the number of interval:\"))"
   ]
  },
  {
   "cell_type": "code",
   "execution_count": 13,
   "metadata": {},
   "outputs": [
    {
     "name": "stdout",
     "output_type": "stream",
     "text": [
      "[-1.0, -0.98, -0.96, -0.94, -0.92, -0.9, -0.88, -0.86, -0.84, -0.8200000000000001, -0.8, -0.78, -0.76, -0.74, -0.72, -0.7, -0.6799999999999999, -0.6599999999999999, -0.64, -0.62, -0.6, -0.5800000000000001, -0.56, -0.54, -0.52, -0.5, -0.48, -0.45999999999999996, -0.43999999999999995, -0.42000000000000004, -0.4, -0.38, -0.36, -0.33999999999999997, -0.31999999999999995, -0.29999999999999993, -0.28, -0.26, -0.24, -0.21999999999999997, -0.19999999999999996, -0.17999999999999994, -0.16000000000000003, -0.14, -0.12, -0.09999999999999998, -0.07999999999999996, -0.05999999999999994, -0.040000000000000036, -0.020000000000000018, 0.0, 0.020000000000000018, 0.040000000000000036, 0.06000000000000005, 0.08000000000000007, 0.10000000000000009, 0.1200000000000001, 0.14000000000000012, 0.15999999999999992, 0.17999999999999994, 0.19999999999999996, 0.21999999999999997, 0.24, 0.26, 0.28, 0.30000000000000004, 0.32000000000000006, 0.3400000000000001, 0.3600000000000001, 0.3800000000000001, 0.40000000000000013, 0.41999999999999993, 0.43999999999999995, 0.45999999999999996, 0.48, 0.5, 0.52, 0.54, 0.56, 0.5800000000000001, 0.6000000000000001, 0.6200000000000001, 0.6400000000000001, 0.6600000000000001, 0.6799999999999999, 0.7, 0.72, 0.74, 0.76, 0.78, 0.8, 0.8200000000000001, 0.8400000000000001, 0.8600000000000001, 0.8800000000000001, 0.9000000000000001, 0.9199999999999999, 0.94, 0.96, 0.98, 1.0]\n",
      "11\n"
     ]
    }
   ],
   "source": [
    "m=int(10*n)\n",
    "h=2/m\n",
    "X=[-1+h*i for i in range (0,m+1)]\n",
    "print((X))\n",
    "pt=n+1\n",
    "print(pt)"
   ]
  },
  {
   "cell_type": "code",
   "execution_count": 14,
   "metadata": {},
   "outputs": [
    {
     "name": "stdout",
     "output_type": "stream",
     "text": [
      "[-0.9782286581460571, -0.8870625997680952, -0.7301520055740494, -0.5190961292068119, -0.269543155952345, 0.0, 0.269543155952345, 0.5190961292068119, 0.7301520055740494, 0.8870625997680952, 0.9782286581460571]\n"
     ]
    }
   ],
   "source": [
    "m=int(10*n)\n",
    "roots=[]\n",
    "for i in range (0,m):\n",
    "    z11=X[i+1]\n",
    "    z00=X[i]\n",
    "    if(Legendre(pt,z11)==0):\n",
    "        roots.append(z11)\n",
    "    elif((Legendre(pt,z11))*(Legendre(pt,z00))<0):\n",
    "        for i in range (0,100):\n",
    "            mp=(z11+z00)/2\n",
    "            if(Legendre(pt,mp)==0):\n",
    "                print('stopped')\n",
    "                break;\n",
    "            elif((Legendre(pt,mp))*(Legendre(pt,z00))<0):\n",
    "                z11=mp\n",
    "            else:\n",
    "                z00=mp\n",
    "        roots.append(mp)\n",
    "print(roots)"
   ]
  },
  {
   "cell_type": "code",
   "execution_count": 15,
   "metadata": {},
   "outputs": [],
   "source": [
    "def phi(k,x):\n",
    "    prod=1\n",
    "    for i in range (0,n+1):\n",
    "        if(k != i):\n",
    "            ps= (x-roots[i])/(roots[k]-roots[i])\n",
    "            prod =prod*ps\n",
    "    return prod"
   ]
  },
  {
   "cell_type": "code",
   "execution_count": 16,
   "metadata": {},
   "outputs": [
    {
     "name": "stdout",
     "output_type": "stream",
     "text": [
      "[0.05567415183588349, 0.12556454762714872, 0.18631263556314373, 0.23316892466053063, 0.26282992549420703, 0.2728996296381722, 0.2628299254942071, 0.23316892466053038, 0.18631263556314412, 0.12556454762714808, 0.055674151835884506]\n"
     ]
    }
   ],
   "source": [
    "weights=[]\n",
    "#integration using simpson's\n",
    "for k in range (0,n+1):\n",
    "    a=-1\n",
    "    b=1\n",
    "    N_sim=100 # number of intervals\n",
    "    n_sim=int(N_sim/2)\n",
    "    h_sim=(b-a)/N_sim\n",
    "    x0_sim=a\n",
    "    I_sim=0  ## used if N=10 implies 11 pts and set of 3\n",
    "    for i in range (0,n_sim):\n",
    "        x1_sim=x0_sim+h_sim\n",
    "        x2_sim=x0_sim+2*h_sim\n",
    "        I_sim=I_sim+ (h_sim*(phi(k,x0_sim)+4*phi(k,x1_sim)+phi(k,x2_sim)))/3\n",
    "        x0_sim=x0_sim+2*h_sim\n",
    "    weights.append(I_sim)\n",
    "print(weights)"
   ]
  },
  {
   "cell_type": "code",
   "execution_count": 17,
   "metadata": {},
   "outputs": [],
   "source": [
    "def func(x):\n",
    "    return(math.sqrt(1-x**2))"
   ]
  },
  {
   "cell_type": "code",
   "execution_count": 18,
   "metadata": {},
   "outputs": [
    {
     "name": "stdout",
     "output_type": "stream",
     "text": [
      "1.5713410908965586\n"
     ]
    }
   ],
   "source": [
    "Integral=0\n",
    "for i in range (0,n+1):\n",
    "    Integral=Integral+weights[i]*func(roots[i])\n",
    "print(Integral)"
   ]
  },
  {
   "cell_type": "code",
   "execution_count": null,
   "metadata": {},
   "outputs": [],
   "source": []
  }
 ],
 "metadata": {
  "kernelspec": {
   "display_name": "Python 3",
   "language": "python",
   "name": "python3"
  },
  "language_info": {
   "codemirror_mode": {
    "name": "ipython",
    "version": 3
   },
   "file_extension": ".py",
   "mimetype": "text/x-python",
   "name": "python",
   "nbconvert_exporter": "python",
   "pygments_lexer": "ipython3",
   "version": "3.8.3"
  }
 },
 "nbformat": 4,
 "nbformat_minor": 4
}
