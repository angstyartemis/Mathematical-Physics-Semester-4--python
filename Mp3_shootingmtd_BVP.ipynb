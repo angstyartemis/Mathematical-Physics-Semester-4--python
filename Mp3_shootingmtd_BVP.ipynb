{
 "cells": [
  {
   "cell_type": "code",
   "execution_count": 8,
   "metadata": {},
   "outputs": [],
   "source": [
    "import math   ## importing the required libraries\n",
    "import matplotlib.pyplot as plt\n",
    "%matplotlib inline\n",
    "import numpy as np"
   ]
  },
  {
   "cell_type": "code",
   "execution_count": 9,
   "metadata": {},
   "outputs": [],
   "source": [
    "z0=1.2\n",
    "z1=1.5\n",
    "def f(z):\n",
    "    x=0\n",
    "    y=1\n",
    "    x1=1\n",
    "    h=1/3\n",
    "    while(x<x1):\n",
    "        y1=y+h*z\n",
    "        z=z+h*(6*(y**2)-x)\n",
    "        x=x+h\n",
    "        y=y1\n",
    "    return(y)"
   ]
  },
  {
   "cell_type": "code",
   "execution_count": 10,
   "metadata": {},
   "outputs": [
    {
     "name": "stdout",
     "output_type": "stream",
     "text": [
      "4.802962962962963\n",
      "5.296296296296296\n"
     ]
    }
   ],
   "source": [
    "y0=f(z0)\n",
    "y1=f(z1)\n",
    "print(y0)\n",
    "print(y1)"
   ]
  },
  {
   "cell_type": "code",
   "execution_count": 11,
   "metadata": {},
   "outputs": [
    {
     "name": "stdout",
     "output_type": "stream",
     "text": [
      "1.31981981981982\n",
      "1.320787083753785\n",
      "2\n"
     ]
    }
   ],
   "source": [
    "step=0\n",
    "while(abs(f(z1)-5)>0.0001):\n",
    "    z2=z1-((y1-5)*(z1-z0))/(y1-y0)\n",
    "    z0=z1\n",
    "    z1=z2\n",
    "    y1=f(z1)\n",
    "    y0=f(z0)\n",
    "    step=step+1\n",
    "    print(z1)\n",
    "print(step)"
   ]
  },
  {
   "cell_type": "code",
   "execution_count": 12,
   "metadata": {},
   "outputs": [
    {
     "name": "stdout",
     "output_type": "stream",
     "text": [
      "4.999987159541454\n"
     ]
    }
   ],
   "source": [
    "y2=f(z1)\n",
    "print(y2)"
   ]
  }
 ],
 "metadata": {
  "kernelspec": {
   "display_name": "Python 3",
   "language": "python",
   "name": "python3"
  },
  "language_info": {
   "codemirror_mode": {
    "name": "ipython",
    "version": 3
   },
   "file_extension": ".py",
   "mimetype": "text/x-python",
   "name": "python",
   "nbconvert_exporter": "python",
   "pygments_lexer": "ipython3",
   "version": "3.8.3"
  }
 },
 "nbformat": 4,
 "nbformat_minor": 4
}
