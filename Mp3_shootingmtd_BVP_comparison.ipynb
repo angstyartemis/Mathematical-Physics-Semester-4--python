{
 "cells": [
  {
   "cell_type": "code",
   "execution_count": 13,
   "metadata": {},
   "outputs": [],
   "source": [
    "import math   ## importing the required libraries\n",
    "import matplotlib.pyplot as plt\n",
    "%matplotlib inline\n",
    "import numpy as np"
   ]
  },
  {
   "cell_type": "code",
   "execution_count": 14,
   "metadata": {},
   "outputs": [
    {
     "name": "stdout",
     "output_type": "stream",
     "text": [
      "enter the value of precision:0.001\n"
     ]
    }
   ],
   "source": [
    "h=float(input('enter the value of precision:'))"
   ]
  },
  {
   "cell_type": "code",
   "execution_count": 15,
   "metadata": {},
   "outputs": [],
   "source": [
    "za=-1\n",
    "zb=1\n",
    "yf=1\n",
    "def f(z):\n",
    "    x=0\n",
    "    y=1\n",
    "    xlist_euler=[x]\n",
    "    ylist_euler=[y]\n",
    "    x1= math.pi/2 \n",
    "    while(x<(math.pi/2)): ## euler's method\n",
    "        y1=y+h*z\n",
    "        z=z+h*(-y)\n",
    "        x=x+h\n",
    "        y=y1\n",
    "        ylist_euler.append(y)\n",
    "        xlist_euler.append(x)\n",
    "    return(y)\n",
    "def eulerylist(z):\n",
    "    x=0\n",
    "    y=1\n",
    "    xlist_euler=[x]\n",
    "    ylist_euler=[y]\n",
    "    x1= math.pi/2 \n",
    "    while(x<(math.pi/2)): ## euler's method\n",
    "        y1=y+h*z\n",
    "        z=z+h*(-y)\n",
    "        x=x+h\n",
    "        y=y1\n",
    "        ylist_euler.append(y)\n",
    "        xlist_euler.append(x)\n",
    "    return(ylist_euler)\n",
    "def eulerxlist(z):\n",
    "    x=0\n",
    "    y=1\n",
    "    xlist_euler=[x]\n",
    "    ylist_euler=[y]\n",
    "    x1= math.pi/2 \n",
    "    while(x<(math.pi/2)): ## euler's method\n",
    "        y1=y+h*z\n",
    "        z=z+h*(-y)\n",
    "        x=x+h\n",
    "        y=y1\n",
    "        ylist_euler.append(y)\n",
    "        xlist_euler.append(x)\n",
    "    return(xlist_euler)"
   ]
  },
  {
   "cell_type": "code",
   "execution_count": 16,
   "metadata": {},
   "outputs": [],
   "source": [
    "## RK2\n",
    "def dydx(y,z,x):\n",
    "    return z\n",
    "\n",
    "def dzdx(y,z,x):\n",
    "    return -y"
   ]
  },
  {
   "cell_type": "code",
   "execution_count": 17,
   "metadata": {},
   "outputs": [],
   "source": [
    "def g(z):\n",
    "    x=0\n",
    "    y=1\n",
    "    x1=math.pi/2\n",
    "    xlist_rk2=[]\n",
    "    ylist_rk2=[]\n",
    "    while(x<x1):\n",
    "        k1 = h * dydx(y, z, x)\n",
    "        q1 = h * dzdx(y, z, x)\n",
    "        k2 = h* dydx(y+k1/2, z+q1/2, x+h/2)\n",
    "        q2 = h*dzdx(y+k1/2, z+q1/2, x+h/2)\n",
    "        y += k2\n",
    "        z += q2\n",
    "        x += h\n",
    "        ylist_rk2.append(y)\n",
    "        xlist_rk2.append(x)\n",
    "    return(y)\n",
    "def rk2ylist(z):\n",
    "    x=0\n",
    "    y=1\n",
    "    x1=math.pi/2\n",
    "    xlist_rk2=[x]\n",
    "    ylist_rk2=[y]\n",
    "    while(x<x1):\n",
    "        k1 = h * dydx(y, z, x)\n",
    "        q1 = h * dzdx(y, z, x)\n",
    "        k2 = h* dydx(y+k1/2, z+q1/2, x+h/2)\n",
    "        q2 = h*dzdx(y+k1/2, z+q1/2, x+h/2)\n",
    "        y += k2\n",
    "        z += q2\n",
    "        x += h\n",
    "        ylist_rk2.append(y)\n",
    "        xlist_rk2.append(x)\n",
    "    return(ylist_rk2)\n",
    "def rk2xlist(z):\n",
    "    x=0\n",
    "    y=1\n",
    "    x1=math.pi/2\n",
    "    xlist_rk2=[x]\n",
    "    ylist_rk2=[y]\n",
    "    while(x<x1):\n",
    "        k1 = h * dydx(y, z, x)\n",
    "        q1 = h * dzdx(y, z, x)\n",
    "        k2 = h* dydx(y+k1/2, z+q1/2, x+h/2)\n",
    "        q2 = h*dzdx(y+k1/2, z+q1/2, x+h/2)\n",
    "        y += k2\n",
    "        z += q2\n",
    "        x += h\n",
    "        ylist_rk2.append(y)\n",
    "        xlist_rk2.append(x)\n",
    "    return(xlist_rk2)"
   ]
  },
  {
   "cell_type": "code",
   "execution_count": 18,
   "metadata": {},
   "outputs": [
    {
     "name": "stdout",
     "output_type": "stream",
     "text": [
      "-1.0009890967157005\n",
      "1.0005824783678512\n"
     ]
    }
   ],
   "source": [
    "y0=f(za)\n",
    "y1=f(zb)\n",
    "print(y0)\n",
    "print(y1)"
   ]
  },
  {
   "cell_type": "code",
   "execution_count": 19,
   "metadata": {},
   "outputs": [
    {
     "name": "stdout",
     "output_type": "stream",
     "text": [
      "0.9994179789770177\n",
      "1\n"
     ]
    }
   ],
   "source": [
    "z0=za\n",
    "z1=zb\n",
    "step=0\n",
    "while(abs(f(z1)-yf)>0.0001):\n",
    "    z2=z1-((y1-yf)*(z1-z0))/(y1-y0) ## secant method\n",
    "    z0=z1\n",
    "    z1=z2\n",
    "    y1=f(z1)\n",
    "    y0=f(z0)\n",
    "    step=step+1\n",
    "    print(z1)\n",
    "print(step)"
   ]
  },
  {
   "cell_type": "code",
   "execution_count": 20,
   "metadata": {},
   "outputs": [
    {
     "name": "stdout",
     "output_type": "stream",
     "text": [
      "1.0000000000000009\n"
     ]
    }
   ],
   "source": [
    "y2=f(z1)\n",
    "print(y2)"
   ]
  },
  {
   "cell_type": "code",
   "execution_count": 21,
   "metadata": {},
   "outputs": [
    {
     "name": "stdout",
     "output_type": "stream",
     "text": [
      "-0.9994177505705302\n",
      "1.0002039556395603\n",
      "2\n"
     ]
    }
   ],
   "source": [
    "z0r=za\n",
    "z1r=zb\n",
    "y1=g(z0r)\n",
    "y2=g(z1r)\n",
    "step=0\n",
    "while(abs(g(z1r)-yf)>0.0001):\n",
    "    z2r=z1r-((y1-yf)*(z1r-z0r))/(y1-y0) ## secant method\n",
    "    z0r=z1r\n",
    "    z1r=z2r\n",
    "    y1=g(z1r)\n",
    "    y0=g(z0r)\n",
    "    step=step+1\n",
    "    print(z1r)\n",
    "print(step)"
   ]
  },
  {
   "cell_type": "code",
   "execution_count": 22,
   "metadata": {},
   "outputs": [
    {
     "name": "stdout",
     "output_type": "stream",
     "text": [
      "1.000000000000002\n"
     ]
    }
   ],
   "source": [
    "yr2=g(z1r)\n",
    "print(yr2)"
   ]
  },
  {
   "cell_type": "code",
   "execution_count": 23,
   "metadata": {},
   "outputs": [],
   "source": [
    "x=0\n",
    "y=1\n",
    "x1=math.pi/2\n",
    "xlist_act=[x]\n",
    "ylist_act=[y]\n",
    "while(x<x1):\n",
    "    x+=h\n",
    "    y=math.sin(x)+math.cos(x)\n",
    "    xlist_act.append(x)\n",
    "    ylist_act.append(y)"
   ]
  },
  {
   "cell_type": "code",
   "execution_count": 24,
   "metadata": {},
   "outputs": [
    {
     "data": {
      "text/plain": [
       "[<matplotlib.lines.Line2D at 0x2067553d100>]"
      ]
     },
     "execution_count": 24,
     "metadata": {},
     "output_type": "execute_result"
    },
    {
     "data": {
      "image/png": "[encoded data removed]",
      "text/plain": [
       "<Figure size 432x288 with 1 Axes>"
      ]
     },
     "metadata": {
      "needs_background": "light"
     },
     "output_type": "display_data"
    }
   ],
   "source": [
    "ylistp_euler=eulerylist(z1)\n",
    "xlistp_euler=eulerxlist(z1)\n",
    "ylistp_rk2=rk2ylist(z1r)\n",
    "xlistp_rk2=rk2xlist(z1r)\n",
    "plt.plot(xlistp_euler,ylistp_euler, label='euler', color='blue')\n",
    "plt.plot(xlistp_rk2,ylistp_rk2, label='rk2', color='green')\n",
    "plt.plot(xlist_act,ylist_act, label='actual', color='red')"
   ]
  },
  {
   "cell_type": "code",
   "execution_count": 13,
   "metadata": {},
   "outputs": [
    {
     "name": "stdout",
     "output_type": "stream",
     "text": [
      "-1.0002039144386097\n",
      "0.9997960443646408\n"
     ]
    }
   ],
   "source": [
    "yr0=g(za)\n",
    "yr1=g(zb)\n",
    "print(yr0)\n",
    "print(yr1)"
   ]
  },
  {
   "cell_type": "code",
   "execution_count": 14,
   "metadata": {},
   "outputs": [
    {
     "name": "stdout",
     "output_type": "stream",
     "text": [
      "-1.0009890967157005\n",
      "2.0013682659096275\n"
     ]
    }
   ],
   "source": [
    "z00=-1\n",
    "z11=2\n",
    "print(f(z00))\n",
    "print(f(z11))"
   ]
  },
  {
   "cell_type": "code",
   "execution_count": 15,
   "metadata": {},
   "outputs": [
    {
     "name": "stdout",
     "output_type": "stream",
     "text": [
      "0.5\n",
      "1.25\n",
      "0.875\n",
      "1.0625\n",
      "0.96875\n",
      "1.015625\n",
      "0.9921875\n",
      "1.00390625\n",
      "0.998046875\n",
      "1.0009765625\n",
      "0.99951171875\n",
      "11\n"
     ]
    }
   ],
   "source": [
    "step=0\n",
    "if((f(z11)-yf)*(f(z00)-yf)>0):\n",
    "    print('bisection method wont work')\n",
    "else:\n",
    "    m=0\n",
    "    while(abs(f(m)-yf)>0.0001):\n",
    "        m=(z11+z00)/2\n",
    "        if((f(m)-yf)*(f(z00)-yf)<0):\n",
    "            z11=m\n",
    "        else:\n",
    "            z00=m\n",
    "        step=step+1\n",
    "        print(m)\n",
    "    print(step)"
   ]
  },
  {
   "cell_type": "code",
   "execution_count": 16,
   "metadata": {},
   "outputs": [
    {
     "name": "stdout",
     "output_type": "stream",
     "text": [
      "1.0000938134325288\n"
     ]
    }
   ],
   "source": [
    "yb2=f(m)\n",
    "print(yb2)"
   ]
  },
  {
   "cell_type": "code",
   "execution_count": 17,
   "metadata": {},
   "outputs": [
    {
     "name": "stdout",
     "output_type": "stream",
     "text": [
      "-5.000203832045123\n",
      "4.999795961971152\n"
     ]
    }
   ],
   "source": [
    "z00=-5\n",
    "z11=5\n",
    "print(g(z00))\n",
    "print(g(z11))"
   ]
  },
  {
   "cell_type": "code",
   "execution_count": 18,
   "metadata": {},
   "outputs": [
    {
     "name": "stdout",
     "output_type": "stream",
     "text": [
      "0.0\n",
      "2.5\n",
      "1.25\n",
      "0.625\n",
      "0.9375\n",
      "1.09375\n",
      "1.015625\n",
      "0.9765625\n",
      "0.99609375\n",
      "1.005859375\n",
      "1.0009765625\n",
      "0.99853515625\n",
      "0.999755859375\n",
      "1.0003662109375\n",
      "1.00006103515625\n",
      "1.000213623046875\n",
      "16\n"
     ]
    }
   ],
   "source": [
    "step=0\n",
    "if((g(z11)-yf)*(g(z00)-yf)>0):\n",
    "    print('bisection method wont work')\n",
    "else:\n",
    "    m=0\n",
    "    while(abs(g(m)-yf)>0.0001):\n",
    "        m=(z11+z00)/2\n",
    "        if((g(m)-yf)*(g(z00)-yf)<0):\n",
    "            z11=m\n",
    "        else:\n",
    "            z00=m\n",
    "        step=step+1\n",
    "        print(m)\n",
    "    print(step)"
   ]
  },
  {
   "cell_type": "code",
   "execution_count": 19,
   "metadata": {},
   "outputs": [
    {
     "name": "stdout",
     "output_type": "stream",
     "text": [
      "1.000009667407117\n"
     ]
    }
   ],
   "source": [
    "yrb2=g(m)\n",
    "print(yrb2)"
   ]
  },
  {
   "cell_type": "code",
   "execution_count": null,
   "metadata": {},
   "outputs": [],
   "source": []
  }
 ],
 "metadata": {
  "kernelspec": {
   "display_name": "Python 3",
   "language": "python",
   "name": "python3"
  },
  "language_info": {
   "codemirror_mode": {
    "name": "ipython",
    "version": 3
   },
   "file_extension": ".py",
   "mimetype": "text/x-python",
   "name": "python",
   "nbconvert_exporter": "python",
   "pygments_lexer": "ipython3",
   "version": "3.8.3"
  }
 },
 "nbformat": 4,
 "nbformat_minor": 4
}
