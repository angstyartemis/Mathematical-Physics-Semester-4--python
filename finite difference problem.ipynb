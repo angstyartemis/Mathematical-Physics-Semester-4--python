{
 "cells": [
  {
   "cell_type": "code",
   "execution_count": 1,
   "metadata": {},
   "outputs": [],
   "source": [
    "import math   ## importing the required libraries\n",
    "import matplotlib.pyplot as plt\n",
    "%matplotlib inline\n",
    "import numpy as np"
   ]
  },
  {
   "cell_type": "code",
   "execution_count": 2,
   "metadata": {},
   "outputs": [
    {
     "name": "stdout",
     "output_type": "stream",
     "text": [
      "the value of precision is:0.1\n"
     ]
    }
   ],
   "source": [
    "h= float(input('the value of precision is:'))"
   ]
  },
  {
   "cell_type": "code",
   "execution_count": 3,
   "metadata": {},
   "outputs": [],
   "source": [
    "n=int(1/h)\n",
    "matA= np.zeros((n+2,n+2))\n",
    "lowerA=np.zeros((n+2,n+2))\n",
    "upperA=np.zeros((n+2,n+2))\n",
    "matB=np.zeros((1,n+2))\n",
    "Y=np.zeros((1,n+2))\n",
    "X=np.zeros((1,n+2))"
   ]
  },
  {
   "cell_type": "code",
   "execution_count": 4,
   "metadata": {},
   "outputs": [],
   "source": [
    "for i in range (0,n+2):\n",
    "    if i==0:\n",
    "        matA[i][i]= 1;\n",
    "    elif i==n+1:\n",
    "        matA[i][i]=1;\n",
    "        matA[i][i-2]=-1\n",
    "    else:\n",
    "        matA[i][i]=-(2+h**2);\n",
    "        matA[i][i-1]=1\n",
    "        matA[i][i+1]=1"
   ]
  },
  {
   "cell_type": "code",
   "execution_count": 5,
   "metadata": {},
   "outputs": [
    {
     "name": "stdout",
     "output_type": "stream",
     "text": [
      "[[ 1.    0.    0.    0.    0.    0.    0.    0.    0.    0.    0.    0.  ]\n",
      " [ 1.   -2.01  1.    0.    0.    0.    0.    0.    0.    0.    0.    0.  ]\n",
      " [ 0.    1.   -2.01  1.    0.    0.    0.    0.    0.    0.    0.    0.  ]\n",
      " [ 0.    0.    1.   -2.01  1.    0.    0.    0.    0.    0.    0.    0.  ]\n",
      " [ 0.    0.    0.    1.   -2.01  1.    0.    0.    0.    0.    0.    0.  ]\n",
      " [ 0.    0.    0.    0.    1.   -2.01  1.    0.    0.    0.    0.    0.  ]\n",
      " [ 0.    0.    0.    0.    0.    1.   -2.01  1.    0.    0.    0.    0.  ]\n",
      " [ 0.    0.    0.    0.    0.    0.    1.   -2.01  1.    0.    0.    0.  ]\n",
      " [ 0.    0.    0.    0.    0.    0.    0.    1.   -2.01  1.    0.    0.  ]\n",
      " [ 0.    0.    0.    0.    0.    0.    0.    0.    1.   -2.01  1.    0.  ]\n",
      " [ 0.    0.    0.    0.    0.    0.    0.    0.    0.    1.   -2.01  1.  ]\n",
      " [ 0.    0.    0.    0.    0.    0.    0.    0.    0.   -1.    0.    1.  ]]\n"
     ]
    }
   ],
   "source": [
    "print(matA)"
   ]
  },
  {
   "cell_type": "code",
   "execution_count": 6,
   "metadata": {},
   "outputs": [],
   "source": [
    "matB[0][0]=1"
   ]
  },
  {
   "cell_type": "code",
   "execution_count": 7,
   "metadata": {},
   "outputs": [
    {
     "name": "stdout",
     "output_type": "stream",
     "text": [
      "[[1. 0. 0. 0. 0. 0. 0. 0. 0. 0. 0. 0.]]\n"
     ]
    }
   ],
   "source": [
    "print(matB)"
   ]
  },
  {
   "cell_type": "code",
   "execution_count": 8,
   "metadata": {},
   "outputs": [],
   "source": [
    "for i in range(n+2):\n",
    "    for j in range(i,n+2):\n",
    "        sum = 0;\n",
    "        for k in range (i):\n",
    "            sum+=(lowerA[i][k])*(upperA[k][j]);\n",
    "        upperA[i][j]=matA[i][j]-sum;\n",
    "    for j in range(i,n+2):\n",
    "        if(i==j):\n",
    "            lowerA[i][i]=1;\n",
    "        else:\n",
    "            sum = 0\n",
    "            for k in range (i):\n",
    "                sum+=(lowerA[j][k])*(upperA[k][i]);\n",
    "            lowerA[j][i]=(matA[j][i]-sum)/upperA[i][i];\n",
    "            "
   ]
  },
  {
   "cell_type": "code",
   "execution_count": 9,
   "metadata": {},
   "outputs": [
    {
     "name": "stdout",
     "output_type": "stream",
     "text": [
      "[[ 1.          0.          0.          0.          0.          0.\n",
      "   0.          0.          0.          0.          0.          0.        ]\n",
      " [ 1.          1.          0.          0.          0.          0.\n",
      "   0.          0.          0.          0.          0.          0.        ]\n",
      " [ 0.         -0.49751244  1.          0.          0.          0.\n",
      "   0.          0.          0.          0.          0.          0.        ]\n",
      " [ 0.         -0.         -0.66116246  1.          0.          0.\n",
      "   0.          0.          0.          0.          0.          0.        ]\n",
      " [ 0.         -0.         -0.         -0.74137913  1.          0.\n",
      "   0.          0.          0.          0.          0.          0.        ]\n",
      " [ 0.         -0.         -0.         -0.         -0.78825757  1.\n",
      "   0.          0.          0.          0.          0.          0.        ]\n",
      " [ 0.         -0.         -0.         -0.         -0.         -0.81850313\n",
      "   1.          0.          0.          0.          0.          0.        ]\n",
      " [ 0.         -0.         -0.         -0.         -0.         -0.\n",
      "  -0.83928042  1.          0.          0.          0.          0.        ]\n",
      " [ 0.         -0.         -0.         -0.         -0.         -0.\n",
      "  -0.         -0.85417552  1.          0.          0.          0.        ]\n",
      " [ 0.         -0.         -0.         -0.         -0.         -0.\n",
      "  -0.         -0.         -0.86518326  1.          0.          0.        ]\n",
      " [ 0.         -0.         -0.         -0.         -0.         -0.\n",
      "  -0.         -0.         -0.         -0.87350226  1.          0.        ]\n",
      " [ 0.         -0.         -0.         -0.         -0.         -0.\n",
      "  -0.         -0.         -0.          0.87350226  0.76859128  1.        ]]\n",
      "[[ 1.          0.          0.          0.          0.          0.\n",
      "   0.          0.          0.          0.          0.          0.        ]\n",
      " [ 0.         -2.01        1.          0.          0.          0.\n",
      "   0.          0.          0.          0.          0.          0.        ]\n",
      " [ 0.          0.         -1.51248756  1.          0.          0.\n",
      "   0.          0.          0.          0.          0.          0.        ]\n",
      " [ 0.          0.          0.         -1.34883754  1.          0.\n",
      "   0.          0.          0.          0.          0.          0.        ]\n",
      " [ 0.          0.          0.          0.         -1.26862087  1.\n",
      "   0.          0.          0.          0.          0.          0.        ]\n",
      " [ 0.          0.          0.          0.          0.         -1.22174243\n",
      "   1.          0.          0.          0.          0.          0.        ]\n",
      " [ 0.          0.          0.          0.          0.          0.\n",
      "  -1.19149687  1.          0.          0.          0.          0.        ]\n",
      " [ 0.          0.          0.          0.          0.          0.\n",
      "   0.         -1.17071958  1.          0.          0.          0.        ]\n",
      " [ 0.          0.          0.          0.          0.          0.\n",
      "   0.          0.         -1.15582448  1.          0.          0.        ]\n",
      " [ 0.          0.          0.          0.          0.          0.\n",
      "   0.          0.          0.         -1.14481674  1.          0.        ]\n",
      " [ 0.          0.          0.          0.          0.          0.\n",
      "   0.          0.          0.          0.         -1.13649774  1.        ]\n",
      " [ 0.          0.          0.          0.          0.          0.\n",
      "   0.          0.          0.          0.          0.          0.23140872]]\n"
     ]
    }
   ],
   "source": [
    "print(lowerA)\n",
    "print(upperA)"
   ]
  },
  {
   "cell_type": "code",
   "execution_count": 10,
   "metadata": {},
   "outputs": [],
   "source": [
    " Y[0][0] = matB[0][0]/lowerA[0][0]\n",
    "for i in range(1,n+2):\n",
    "    Y[0][i] = matB[0][i]\n",
    "    for j in range(0,i):\n",
    "        Y[0][i] = Y[0][i] - lowerA[i][j]*Y[0][j]\n",
    "    Y[0][i]=Y[0][i]/lowerA[i][i]"
   ]
  },
  {
   "cell_type": "code",
   "execution_count": 11,
   "metadata": {},
   "outputs": [
    {
     "name": "stdout",
     "output_type": "stream",
     "text": [
      "[[ 1.         -1.         -0.49751244 -0.32893655 -0.24386669 -0.19222976\n",
      "  -0.15734066 -0.13205294 -0.11279639 -0.09758955 -0.08524469  0.15076301]]\n"
     ]
    }
   ],
   "source": [
    "print(Y)"
   ]
  },
  {
   "cell_type": "code",
   "execution_count": 12,
   "metadata": {},
   "outputs": [],
   "source": [
    "X[0][n+1] =Y[0][n+1]/upperA[n+1][n+1]\n",
    "for i in range(n,-1,-1):\n",
    "    X[0][i] = Y[0][i]\n",
    "    \n",
    "    for j in range(i+1,n+2):\n",
    "        X[0][i] = X[0][i] - upperA[i][j]*X[0][j]\n",
    "    \n",
    "    X[0][i] = X[0][i]/upperA[i][i]"
   ]
  },
  {
   "cell_type": "code",
   "execution_count": 13,
   "metadata": {},
   "outputs": [
    {
     "name": "stdout",
     "output_type": "stream",
     "text": [
      "[[1.         0.92876295 0.86681353 0.81353225 0.76838629 0.73092419\n",
      "  0.70077133 0.67762619 0.66125731 0.651501   0.6482597  0.651501  ]]\n"
     ]
    }
   ],
   "source": [
    "print(X)"
   ]
  },
  {
   "cell_type": "code",
   "execution_count": 14,
   "metadata": {},
   "outputs": [
    {
     "data": {
      "text/plain": [
       "<matplotlib.legend.Legend at 0x26759867b20>"
      ]
     },
     "execution_count": 14,
     "metadata": {},
     "output_type": "execute_result"
    },
    {
     "data": {
      "image/png": "[encoded data removed]",
      "text/plain": [
       "<Figure size 432x288 with 1 Axes>"
      ]
     },
     "metadata": {
      "needs_background": "light"
     },
     "output_type": "display_data"
    }
   ],
   "source": [
    "difflist=[X[0][i] for i in range (0,n+2)]\n",
    "p=0\n",
    "plist=[p]\n",
    "for i in range (0,n+1):\n",
    "    p+=h\n",
    "    plist.append(p)\n",
    "ylist=[(0.119075175*math.exp(xi))+(0.880924825*math.exp(-xi))  for xi in plist]\n",
    "plt.plot(plist,ylist, color='blue', label='actual')\n",
    "plt.plot(plist,difflist, color='red', label='diff mtd')\n",
    "plt.legend()"
   ]
  },
  {
   "cell_type": "code",
   "execution_count": null,
   "metadata": {},
   "outputs": [],
   "source": []
  }
 ],
 "metadata": {
  "kernelspec": {
   "display_name": "Python 3",
   "language": "python",
   "name": "python3"
  },
  "language_info": {
   "codemirror_mode": {
    "name": "ipython",
    "version": 3
   },
   "file_extension": ".py",
   "mimetype": "text/x-python",
   "name": "python",
   "nbconvert_exporter": "python",
   "pygments_lexer": "ipython3",
   "version": "3.8.3"
  }
 },
 "nbformat": 4,
 "nbformat_minor": 4
}
