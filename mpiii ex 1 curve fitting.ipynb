{
 "cells": [
  {
   "cell_type": "code",
   "execution_count": 29,
   "metadata": {},
   "outputs": [],
   "source": [
    "import math   ## importing the required libraries\n",
    "import matplotlib.pyplot as plt\n",
    "%matplotlib inline\n",
    "import numpy as np"
   ]
  },
  {
   "cell_type": "code",
   "execution_count": 30,
   "metadata": {},
   "outputs": [
    {
     "name": "stdout",
     "output_type": "stream",
     "text": [
      "degree of the polynomial to be fitted: 3\n"
     ]
    }
   ],
   "source": [
    "n = int(input('degree of the polynomial to be fitted: ')) # enter the degree of the polynomial that you want to fit"
   ]
  },
  {
   "cell_type": "code",
   "execution_count": 31,
   "metadata": {},
   "outputs": [],
   "source": [
    "x= [0, 0.05, 0.1, 0.15, 0.2, 0.25, 0.3, 0.35, 0.4, 0.45,\n",
    "    0.5, 0.55, 0.6, 0.65, 0.7, 0.75, 0.8, 0.85, 0.9, 0.95, 1]\n",
    "y= [0.486, 0.866, 0.944, 1.144, 1.103, 1.202, 1.166, 1.191, 1.124,1.095,\n",
    "    1.122, 1.102, 1.099, 1.017, 1.111, 1.117, 1.152, 1.265, 1.38, 1.575, 1.857]"
   ]
  },
  {
   "cell_type": "code",
   "execution_count": 32,
   "metadata": {},
   "outputs": [
    {
     "name": "stdout",
     "output_type": "stream",
     "text": [
      "21\n"
     ]
    }
   ],
   "source": [
    "N= len(x) # calculate the number of points taken\n",
    "print(N)"
   ]
  },
  {
   "cell_type": "code",
   "execution_count": 33,
   "metadata": {},
   "outputs": [
    {
     "name": "stdout",
     "output_type": "stream",
     "text": [
      "[21.0, 10.499999999999998, 7.174999999999999, 5.5125, 4.516662500000001, 3.85415625, 3.3821220312499998]\n",
      "[24.118000000000002, 13.234499999999997, 9.468365, 7.5594405, 6.4007078375, 5.6175627937499995, 5.04987759884375]\n"
     ]
    }
   ],
   "source": [
    "sum_list=[]\n",
    "Y_list=[]\n",
    "for i in range (2*n+1):\n",
    "    sum=0\n",
    "    Y=0\n",
    "    for j in x:\n",
    "        sum+= j**i\n",
    "    for k in range (0,N):\n",
    "        Y+= (x[k]**i)*y[k]\n",
    "    sum_list.append(sum) # list whose elements are sum(i), sum(xi), sum(xi^2),...soon\n",
    "    Y_list.append(Y) # list whose elements are sum(yi), sum(xiyi), sum(xi^2*yi),....soon\n",
    "    \n",
    "print(sum_list)\n",
    "print(Y_list)"
   ]
  },
  {
   "cell_type": "code",
   "execution_count": 34,
   "metadata": {},
   "outputs": [],
   "source": [
    "matM =np.zeros((n+1,n+1))\n",
    "matY =np.zeros(n+1)\n",
    "matA = np.zeros(n+1)"
   ]
  },
  {
   "cell_type": "code",
   "execution_count": 35,
   "metadata": {},
   "outputs": [
    {
     "name": "stdout",
     "output_type": "stream",
     "text": [
      "[[21.         10.5         7.175       5.5125    ]\n",
      " [10.5         7.175       5.5125      4.5166625 ]\n",
      " [ 7.175       5.5125      4.5166625   3.85415625]\n",
      " [ 5.5125      4.5166625   3.85415625  3.38212203]]\n"
     ]
    }
   ],
   "source": [
    "for i in range(n+1):\n",
    "    for j in range(n+1):\n",
    "        matM[i][j] = sum_list[j+i]\n",
    "print(matM) # matrix of M in MA=Y form of equation (matrix of xis)"
   ]
  },
  {
   "cell_type": "code",
   "execution_count": 36,
   "metadata": {},
   "outputs": [
    {
     "name": "stdout",
     "output_type": "stream",
     "text": [
      "[24.118     13.2345     9.468365   7.5594405]\n"
     ]
    }
   ],
   "source": [
    "for i in range(n+1):\n",
    "    matY[i]=Y_list[i]\n",
    "print(matY) # matrix on R.H.S. of the equation"
   ]
  },
  {
   "cell_type": "code",
   "execution_count": 37,
   "metadata": {},
   "outputs": [
    {
     "name": "stdout",
     "output_type": "stream",
     "text": [
      "[[1.         0.         0.         0.        ]\n",
      " [0.5        1.         0.         0.        ]\n",
      " [0.34166667 1.         1.         0.        ]\n",
      " [0.2625     0.9145     1.5        1.        ]]\n",
      "[[2.10000000e+01 1.05000000e+01 7.17500000e+00 5.51250000e+00]\n",
      " [0.00000000e+00 1.92500000e+00 1.92500000e+00 1.76041250e+00]\n",
      " [0.00000000e+00 0.00000000e+00 1.40204167e-01 2.10306250e-01]\n",
      " [0.00000000e+00 0.00000000e+00 0.00000000e+00 9.73417500e-03]]\n"
     ]
    }
   ],
   "source": [
    "# program for LU decomposition\n",
    "lowerM=np.zeros((n+1,n+1))\n",
    "upperM=np.zeros((n+1,n+1))\n",
    "P=np.zeros(n+1)\n",
    "for i in range(n+1):\n",
    "    for j in range(i,n+1):\n",
    "        sum = 0;\n",
    "        for k in range (i):\n",
    "            sum+=(lowerM[i][k])*(upperM[k][j]);\n",
    "        upperM[i][j]=matM[i][j]-sum;\n",
    "    for j in range(i,n+1):\n",
    "        if(i==j):\n",
    "            lowerM[i][i]=1;\n",
    "        else:\n",
    "            sum = 0\n",
    "            for k in range (i):\n",
    "                sum+=(lowerM[j][k])*(upperM[k][i]);\n",
    "            lowerM[j][i]=(matM[j][i]-sum)/upperM[i][i];\n",
    "            \n",
    "print(lowerM)\n",
    "print(upperM)\n",
    "            "
   ]
  },
  {
   "cell_type": "code",
   "execution_count": 38,
   "metadata": {},
   "outputs": [
    {
     "name": "stdout",
     "output_type": "stream",
     "text": [
      "[24.118       1.1755      0.05254833  0.07464825]\n"
     ]
    }
   ],
   "source": [
    "for i in range (n+1):\n",
    "    P[i]=matY[i]/lowerM[i][i];      \n",
    "    for j in range(0,i):\n",
    "        P[i]=P[i]-(lowerM[i][j]*P[j])/lowerM[i][i];\n",
    "print(P)"
   ]
  },
  {
   "cell_type": "code",
   "execution_count": 39,
   "metadata": {},
   "outputs": [
    {
     "name": "stdout",
     "output_type": "stream",
     "text": [
      "[  0.57465867   4.72586144 -11.12821778   7.66867762]\n"
     ]
    }
   ],
   "source": [
    "for i in range (n,-1,-1):\n",
    "    matA[i]=P[i]/upperM[i][i];\n",
    "    for j in range (i+1, n+1):\n",
    "        matA[i]=matA[i]-(upperM[i][j]*matA[j])/upperM[i][i];\n",
    "print(matA)  ## final matrix obtained after LU decom. and substitution, it's elements are the required coefficients"
   ]
  },
  {
   "cell_type": "code",
   "execution_count": 40,
   "metadata": {},
   "outputs": [],
   "source": [
    "delx=(x[-1] - x[0])/100\n",
    "delx1=x[0]\n",
    "X=[delx1]\n",
    "for i in range (0,100,1):\n",
    "    delx1+=delx\n",
    "    X.append(delx1)\n",
    "funcvalues=[]\n",
    "for xi in X:\n",
    "    funcvalue=0\n",
    "    for i in range (0,n+1):\n",
    "         funcvalue+= matA[i]*(xi**i)\n",
    "    funcvalues.append(funcvalue) ## funcvalues have values of best fit curve of nth degree"
   ]
  },
  {
   "cell_type": "code",
   "execution_count": 41,
   "metadata": {},
   "outputs": [
    {
     "data": {
      "text/plain": [
       "[<matplotlib.lines.Line2D at 0x2279fc78400>]"
      ]
     },
     "execution_count": 41,
     "metadata": {},
     "output_type": "execute_result"
    },
    {
     "data": {
      "image/png": "[encoded data removed]",
      "text/plain": [
       "<Figure size 432x288 with 1 Axes>"
      ]
     },
     "metadata": {
      "needs_background": "light"
     },
     "output_type": "display_data"
    }
   ],
   "source": [
    "plt.plot(x, y, 'o') # plots the points\n",
    "plt.plot(X, funcvalues, 'r')# plots the best fit curve"
   ]
  },
  {
   "cell_type": "code",
   "execution_count": null,
   "metadata": {},
   "outputs": [],
   "source": []
  },
  {
   "cell_type": "code",
   "execution_count": null,
   "metadata": {},
   "outputs": [],
   "source": []
  },
  {
   "cell_type": "code",
   "execution_count": null,
   "metadata": {},
   "outputs": [],
   "source": []
  }
 ],
 "metadata": {
  "kernelspec": {
   "display_name": "Python 3",
   "language": "python",
   "name": "python3"
  },
  "language_info": {
   "codemirror_mode": {
    "name": "ipython",
    "version": 3
   },
   "file_extension": ".py",
   "mimetype": "text/x-python",
   "name": "python",
   "nbconvert_exporter": "python",
   "pygments_lexer": "ipython3",
   "version": "3.8.3"
  }
 },
 "nbformat": 4,
 "nbformat_minor": 4
}
