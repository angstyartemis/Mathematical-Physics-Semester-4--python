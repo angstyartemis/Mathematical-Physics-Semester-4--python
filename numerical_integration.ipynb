{
 "cells": [
  {
   "cell_type": "code",
   "execution_count": 25,
   "metadata": {},
   "outputs": [],
   "source": [
    "import math\n",
    "import numpy as np"
   ]
  },
  {
   "cell_type": "code",
   "execution_count": 26,
   "metadata": {},
   "outputs": [],
   "source": [
    "def f(x):\n",
    "    func= math.exp(x) * math.cos(x)\n",
    "    return func"
   ]
  },
  {
   "cell_type": "code",
   "execution_count": 27,
   "metadata": {},
   "outputs": [],
   "source": [
    "a=0\n",
    "b=math.pi\n",
    "N=10 # number of intervals\n",
    "h=(b-a)/N\n",
    "x=[h*i for i in range (0,N+1)]\n",
    "y=[f(xi) for xi in x]\n",
    "#print(x)\n",
    "#print(y)"
   ]
  },
  {
   "cell_type": "code",
   "execution_count": 28,
   "metadata": {},
   "outputs": [
    {
     "name": "stdout",
     "output_type": "stream",
     "text": [
      "the value of the integral using trapezoidal rule is: -12.269545670753011\n"
     ]
    }
   ],
   "source": [
    "# trapezoidal rule\n",
    "I_trap=0\n",
    "for i in range (0,N):\n",
    "    s= (h/2)*(f(x[i])+f(x[i+1]))\n",
    "    I_trap = I_trap + s\n",
    "print('the value of the integral using trapezoidal rule is:',I_trap)"
   ]
  },
  {
   "cell_type": "code",
   "execution_count": 29,
   "metadata": {},
   "outputs": [
    {
     "name": "stdout",
     "output_type": "stream",
     "text": [
      "the value of the integral using simpsons mtd is: -12.067796157928427\n"
     ]
    }
   ],
   "source": [
    "# simpson's 1/3 rd rule\n",
    "I_simp=0  ## used if N=10 implies 11 pts and set of 3\n",
    "n=int(N/2)\n",
    "d=0\n",
    "for i in range (0,n):\n",
    "    m= (h/3)*(f(x[d])+4*f(x[d+1]) + f(x[d+2]))\n",
    "    I_simp = I_simp + m\n",
    "    d+=2\n",
    "print('the value of the integral using simpsons mtd is:',I_simp)\n",
    "\n",
    "#I_simp=0  ## used if N=10 implies 11 pts and set of 2 with mid pt.\n",
    "#for i in range (0,N):\n",
    "#    t= (x[i]+x[i+1])/2\n",
    "#    m= (h/6)*(f(x[i])+4*f(t) + f(x[i+1]))\n",
    "#    I_simp = I_simp + m\n",
    "#print('the value of the integral using simpsons mtd is:',I_simp)"
   ]
  },
  {
   "cell_type": "code",
   "execution_count": 30,
   "metadata": {},
   "outputs": [
    {
     "name": "stdout",
     "output_type": "stream",
     "text": [
      "the value of the integral using gauss quadrature 2 pt form is: -12.070454497428383\n"
     ]
    }
   ],
   "source": [
    "# guass quadrature two point form\n",
    "I_gauss=0\n",
    "for i in range (0,N):\n",
    "    ub=x[i]+x[i+1]\n",
    "    lb=x[i+1]-x[i]\n",
    "    g= (lb/2)*(f((-lb/(2*math.sqrt(3)))+(ub/2))+ f((lb/(2*math.sqrt(3)))+(ub/2)))\n",
    "    I_gauss = I_gauss +g\n",
    "print('the value of the integral using gauss quadrature 2 pt form is:', I_gauss)"
   ]
  },
  {
   "cell_type": "code",
   "execution_count": null,
   "metadata": {},
   "outputs": [],
   "source": []
  }
 ],
 "metadata": {
  "kernelspec": {
   "display_name": "Python 3",
   "language": "python",
   "name": "python3"
  },
  "language_info": {
   "codemirror_mode": {
    "name": "ipython",
    "version": 3
   },
   "file_extension": ".py",
   "mimetype": "text/x-python",
   "name": "python",
   "nbconvert_exporter": "python",
   "pygments_lexer": "ipython3",
   "version": "3.8.3"
  }
 },
 "nbformat": 4,
 "nbformat_minor": 4
}
